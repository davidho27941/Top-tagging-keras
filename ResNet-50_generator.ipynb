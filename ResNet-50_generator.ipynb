{
 "cells": [
  {
   "cell_type": "code",
   "execution_count": null,
   "metadata": {},
   "outputs": [],
   "source": [
    "import numpy as np\n",
    "import matplotlib.pyplot as plt \n",
    "import pandas as pd \n",
    "import hdf5plugin \n",
    "import h5py \n",
    "import os\n",
    "from keras.utils import np_utils\n",
    "import tensorflow as tf\n",
    "from keras.preprocessing.image import ImageDataGenerator\n",
    "\n",
    "gpus = tf.config.experimental.list_physical_devices('GPU')\n",
    "if gpus:\n",
    "  # Restrict TensorFlow to only use the first GPU\n",
    "    try:\n",
    "        tf.config.experimental.set_visible_devices(gpus[0], 'GPU')\n",
    "        tf.config.experimental.set_virtual_device_configuration(\n",
    "        gpus[0],\n",
    "        [tf.config.experimental.VirtualDeviceConfiguration(memory_limit=6000)])\n",
    "        logical_gpus = tf.config.experimental.list_logical_devices('GPU')\n",
    "        print(len(gpus), \"Physical GPUs,\", len(logical_gpus), \"Logical GPU\")\n",
    "    except RuntimeError as e:\n",
    "    # Visible devices must be set before GPUs have been initialized\n",
    "        print(e)"
   ]
  },
  {
   "cell_type": "code",
   "execution_count": null,
   "metadata": {},
   "outputs": [],
   "source": [
    "train_img_pt = []\n",
    "test_img_pt = []\n",
    "train_label_ = []\n",
    "test_label_ = []\n",
    "\n",
    "prefix = \"/home/david/ResNet-50-Keras/data/\"\n",
    "train_file = \"train/train_file_\"\n",
    "val_file = \"val/val_file_\"\n",
    "file_type = \".h5\"\n",
    "path = []\n",
    "filename = ''\n",
    "for i in range(5,10):\n",
    "    seq =  (train_file, str(i),file_type)\n",
    "    path = os.path.join(prefix, filename.join(seq))\n",
    "    with h5py.File(path,'r') as f:\n",
    "        pt_ = f['img_pt']\n",
    "        label_ = f['label']\n",
    "        for a in range(len(pt_)):\n",
    "            train_img_pt.append(pt_[a])\n",
    "        for b in range(len(label_)):\n",
    "            train_label_.append(label_[b])\n",
    "            \n",
    "for i in range(0,1):\n",
    "    seq =  (val_file, str(i),file_type)\n",
    "    path = os.path.join(prefix, filename.join(seq))\n",
    "    with h5py.File(path,'r') as f :\n",
    "        pt_ = f['img_pt']\n",
    "        label_ = f['label']\n",
    "        for a in range(0,4000):\n",
    "            test_img_pt.append(pt_[a])\n",
    "        for b in range(0,4000):\n",
    "            test_label_.append(label_[b])\n"
   ]
  },
  {
   "cell_type": "code",
   "execution_count": null,
   "metadata": {},
   "outputs": [],
   "source": [
    "def normalize_and_rgb(img, label):  \n",
    "    output = np.stack([np.asanyarray(img)/ np.asanyarray(img).max(), np.asanyarray(img)/ np.asanyarray(img).max(), np.asanyarray(img)/ np.asanyarray(img).max()],axis=-1)\n",
    "    yield output, np.asanyarray(label)\n",
    "train_img = normalize_and_rgb(train_img_pt, train_label_)\n",
    "test_img = normalize_and_rgb(test_img_pt, test_label_)"
   ]
  },
  {
   "cell_type": "code",
   "execution_count": null,
   "metadata": {},
   "outputs": [],
   "source": [
    "print(train_img, test_img)\n",
    "#train_label = np.asanyarray(train_label_)\n",
    "#test_label = np.asanyarray(test_label_)\n",
    "#print(train_label.shape, test_label.shape)"
   ]
  },
  {
   "cell_type": "code",
   "execution_count": null,
   "metadata": {},
   "outputs": [],
   "source": [
    "from keras.models import Sequential\n",
    "from keras.layers import Dense, Flatten\n",
    "from keras.applications.resnet50 import ResNet50\n",
    "from keras.callbacks import EarlyStopping,ModelCheckpoint\n",
    "import keras\n",
    "\n",
    "model = Sequential()\n",
    "model.load_weights=('../aws-fpga-top-tagging-notebooks/dataset_Tom/weights-floatingpoint-224x224-fixval-best/class_weights.h5')\n",
    "model.add(ResNet50(pooling='max'))\n",
    "model.add(Dense(2, activation='softmax'))\n",
    "\n",
    "\n",
    "model.summary()\n",
    "modelcheckpoint = ModelCheckpoint('./model/ResNet-50-best.model',\n",
    "                                                     monitor='val_acc', save_best_only=True)\n",
    "earlystop = EarlyStopping()\n"
   ]
  },
  {
   "cell_type": "code",
   "execution_count": null,
   "metadata": {},
   "outputs": [],
   "source": [
    "from keras import losses\n",
    "model.compile(optimizer='adam', loss='binary_crossentropy', metrics=['accuracy'])\n",
    "train_history = model.fit_generator(train_img, validation_data=test_img,\\\n",
    "                                    validation_freq=1, epochs=10, verbose=1,use_multiprocessing=True, steps_per_epoch=20000, validation_steps=4000)"
   ]
  },
  {
   "cell_type": "code",
   "execution_count": null,
   "metadata": {},
   "outputs": [],
   "source": [
    "#Define a function to show training history\n",
    "def show_train_history(train_history, train, validation):\n",
    "    plt.plot(train_history.history[train])\n",
    "    plt.plot(train_history.history[validation])\n",
    "    plt.title('Train history')\n",
    "    plt.xlabel('Epoch')\n",
    "    plt.ylabel(train)\n",
    "    plt.legend(['train','validaiton'],loc='upper left')\n",
    "    plt.show()\n",
    "\n",
    "#Show the result of training \n",
    "show_train_history(train_history,'accuracy','val_accuracy')\n",
    "show_train_history(train_history,'loss','val_loss')\n"
   ]
  },
  {
   "cell_type": "code",
   "execution_count": null,
   "metadata": {},
   "outputs": [],
   "source": []
  }
 ],
 "metadata": {
  "kernelspec": {
   "display_name": "Python 3.6.9 64-bit",
   "language": "python",
   "name": "python36964bitd473ecf5dc094bd6887a96a1d3029107"
  }
 },
 "nbformat": 4,
 "nbformat_minor": 4
}
