{
 "cells": [
  {
   "cell_type": "markdown",
   "metadata": {},
   "source": [
    "# Top tagging model with ResNet-50 "
   ]
  },
  {
   "cell_type": "markdown",
   "metadata": {},
   "source": [
    "This is a training script about using top tagging data to train a ResNet-50 Neuron Network. <br>\n",
    "The training is base on Keras and using tensorflow backend to run."
   ]
  },
  {
   "cell_type": "markdown",
   "metadata": {},
   "source": [
    "## Import necessary package and do gpu test."
   ]
  },
  {
   "cell_type": "code",
   "execution_count": 1,
   "metadata": {},
   "outputs": [
    {
     "name": "stderr",
     "output_type": "stream",
     "text": [
      "Using TensorFlow backend.\n"
     ]
    },
    {
     "name": "stdout",
     "output_type": "stream",
     "text": [
      "1 Physical GPUs, 1 Logical GPU\n"
     ]
    }
   ],
   "source": [
    "import numpy as np\n",
    "import matplotlib.pyplot as plt \n",
    "import pandas as pd \n",
    "import hdf5plugin \n",
    "import h5py \n",
    "import os\n",
    "from keras.utils import np_utils\n",
    "import tensorflow as tf\n",
    "\n",
    "gpus = tf.config.experimental.list_physical_devices('GPU')\n",
    "if gpus:\n",
    "  # Restrict TensorFlow to only use the first GPU\n",
    "    try:\n",
    "        tf.config.experimental.set_visible_devices(gpus[0], 'GPU')\n",
    "        tf.config.experimental.set_virtual_device_configuration(\n",
    "        gpus[0],\n",
    "        [tf.config.experimental.VirtualDeviceConfiguration(memory_limit=6000)])\n",
    "        logical_gpus = tf.config.experimental.list_logical_devices('GPU')\n",
    "        print(len(gpus), \"Physical GPUs,\", len(logical_gpus), \"Logical GPU\")\n",
    "    except RuntimeError as e:\n",
    "    # Visible devices must be set before GPUs have been initialized\n",
    "        print(e)"
   ]
  },
  {
   "cell_type": "markdown",
   "metadata": {},
   "source": [
    "## Input data with H5py package\n",
    "Input data size: 1 channel image with shape 224x224. <br>\n",
    "Input label size: 1 or 0 with onehot encoding. <br>\n",
    "\\# of input data(train(with val), test): 30000,6000"
   ]
  },
  {
   "cell_type": "code",
   "execution_count": 2,
   "metadata": {},
   "outputs": [],
   "source": [
    "train_img_pt = []\n",
    "test_img_pt = []\n",
    "val_img_pt = []\n",
    "train_label_ = []\n",
    "test_label_ = []\n",
    "val_label_ = []\n",
    "\n",
    "prefix = \"/home/david/ResNet-50-Keras/data/\"\n",
    "train_file = \"train/train_file_\"\n",
    "test_file = \"test/test_file_\"\n",
    "val_file = \"val/val_file_\"\n",
    "file_type = \".h5\"\n",
    "path = []\n",
    "filename = ''\n",
    "for i in range(5,7):\n",
    "    seq =  (train_file, str(i),file_type)\n",
    "    path = os.path.join(prefix, filename.join(seq))\n",
    "    with h5py.File(path,'r') as f:\n",
    "        pt_ = f['img_pt']\n",
    "        label_ = f['label']\n",
    "        for a in range(len(pt_)):\n",
    "            train_img_pt.append(pt_[a])\n",
    "        for b in range(len(label_)):\n",
    "            train_label_.append(label_[b])\n",
    "\n",
    "for i in range(0,1):\n",
    "    seq =  (test_file, str(i),file_type)\n",
    "    path = os.path.join(prefix, filename.join(seq))\n",
    "    with h5py.File(path,'r') as f :\n",
    "        pt_ = f['img_pt']\n",
    "        label_ = f['label']\n",
    "        for a in range(0,2000):\n",
    "            test_img_pt.append(pt_[a])\n",
    "        for b in range(0,2000):\n",
    "            test_label_.append(label_[b])\n",
    "\n",
    "            \n",
    "for i in range(0,1):\n",
    "    seq =  (val_file, str(i),file_type)\n",
    "    path = os.path.join(prefix, filename.join(seq))\n",
    "    with h5py.File(path,'r') as f :\n",
    "        pt_ = f['img_pt']\n",
    "        label_ = f['label']\n",
    "        for a in range(0,2000):\n",
    "            val_img_pt.append(pt_[a])\n",
    "        for b in range(0,2000):\n",
    "            val_label_.append(label_[b])\n"
   ]
  },
  {
   "cell_type": "code",
   "execution_count": 3,
   "metadata": {},
   "outputs": [
    {
     "data": {
      "text/plain": [
       "'\\nqq = 0\\ntt = 0\\nc1 = 0\\nc2 = 0\\nfor i in range(len(train_img_pt)): \\n    if (np.argmax(train_label_[i]) == 1):\\n        qq += train_img_pt[i]/train_img_pt[i].max()\\n        c1 += 1\\n    else :\\n        tt += train_img_pt[i]/train_img_pt[i].max()\\n        c2 +=1\\n        \\ncolor_map = plt.imshow(qq)\\ncolor_map.set_cmap(\"Blues_r\")\\nplt.colorbar()\\nplt.xlabel(r\\'$i\\\\eta$\\')\\nplt.ylabel(r\\'$i\\\\phi$\\')\\nplt.title(\\'QCD, about 15K events\\')\\nplt.savefig(\"qcd.png\")\\nprint(c1,c2)\\n'"
      ]
     },
     "execution_count": 3,
     "metadata": {},
     "output_type": "execute_result"
    }
   ],
   "source": [
    "\"\"\"\n",
    "qq = 0\n",
    "tt = 0\n",
    "c1 = 0\n",
    "c2 = 0\n",
    "for i in range(len(train_img_pt)): \n",
    "    if (np.argmax(train_label_[i]) == 1):\n",
    "        qq += train_img_pt[i]/train_img_pt[i].max()\n",
    "        c1 += 1\n",
    "    else :\n",
    "        tt += train_img_pt[i]/train_img_pt[i].max()\n",
    "        c2 +=1\n",
    "        \n",
    "color_map = plt.imshow(qq)\n",
    "color_map.set_cmap(\"Blues_r\")\n",
    "plt.colorbar()\n",
    "plt.xlabel(r'$i\\eta$')\n",
    "plt.ylabel(r'$i\\phi$')\n",
    "plt.title('QCD, about 15K events')\n",
    "plt.savefig(\"qcd.png\")\n",
    "print(c1,c2)\n",
    "\"\"\""
   ]
  },
  {
   "cell_type": "code",
   "execution_count": 4,
   "metadata": {},
   "outputs": [
    {
     "data": {
      "text/plain": [
       "'\\ncolor_map = plt.imshow(tt)\\ncolor_map.set_cmap(\"Blues_r\")\\nplt.colorbar()\\nplt.xlabel(r\\'$i\\\\eta$\\')\\nplt.ylabel(r\\'$i\\\\phi$\\')\\nplt.title(\\'Top, about 15K events\\')\\nplt.savefig(\"top.png\")\\n'"
      ]
     },
     "execution_count": 4,
     "metadata": {},
     "output_type": "execute_result"
    }
   ],
   "source": [
    "\"\"\"\n",
    "color_map = plt.imshow(tt)\n",
    "color_map.set_cmap(\"Blues_r\")\n",
    "plt.colorbar()\n",
    "plt.xlabel(r'$i\\eta$')\n",
    "plt.ylabel(r'$i\\phi$')\n",
    "plt.title('Top, about 15K events')\n",
    "plt.savefig(\"top.png\")\n",
    "\"\"\""
   ]
  },
  {
   "cell_type": "markdown",
   "metadata": {},
   "source": [
    "## Define function to do normalize and duplicate image to 3 channel. <br>\n",
    "Image will be normalize to 0~255 and duplicate into 3 channel."
   ]
  },
  {
   "cell_type": "code",
   "execution_count": 5,
   "metadata": {},
   "outputs": [],
   "source": [
    "def normalize_and_rgb(img, label):  \n",
    "    output = np.stack([np.asanyarray(img)/ np.asanyarray(img).max(), np.asanyarray(img)/ np.asanyarray(img).max(), np.asanyarray(img)/ np.asanyarray(img).max()],axis=-1)\n",
    "    return output, np.asanyarray(label)\n",
    "train_img, train_label = normalize_and_rgb(train_img_pt, train_label_)\n",
    "test_img, test_label = normalize_and_rgb(test_img_pt, test_label_)\n",
    "val_img, val_label = normalize_and_rgb(val_img_pt, val_label_)"
   ]
  },
  {
   "cell_type": "code",
   "execution_count": 4,
   "metadata": {},
   "outputs": [],
   "source": [
    "#print(train_img, train_label, test_img, test_label)\n",
    "#train_label = np.asanyarray(train_label_)\n",
    "#test_label = np.asanyarray(test_label_)\n",
    "#print(train_label.shape, test_label.shape)"
   ]
  },
  {
   "cell_type": "markdown",
   "metadata": {},
   "source": [
    "## Construsting a sequential \n",
    "Construst a model with Keras pre-configured ResNet-50 and one Dense layer with Softmax activation function. <br>\n",
    "Using Earlystopping and custom callback function to prevent training from overfitting and collect ROC/AUC data point. "
   ]
  },
  {
   "cell_type": "code",
   "execution_count": 12,
   "metadata": {},
   "outputs": [
    {
     "name": "stdout",
     "output_type": "stream",
     "text": [
      "Train on 20000 samples, validate on 2000 samples\n",
      "Epoch 1/10\n",
      "20000/20000 [==============================] - 116s 6ms/sample - loss: 0.4824 - accuracy: 0.8522 - val_loss: 0.8595 - val_accuracy: 0.4850\n",
      "Epoch 2/10\n",
      "20000/20000 [==============================] - 113s 6ms/sample - loss: 0.3933 - accuracy: 0.8789 - val_loss: 1.0271 - val_accuracy: 0.4850\n",
      "Epoch 3/10\n",
      "20000/20000 [==============================] - 113s 6ms/sample - loss: 0.3756 - accuracy: 0.8747 - val_loss: 1.1754 - val_accuracy: 0.4850\n",
      "Epoch 4/10\n",
      "20000/20000 [==============================] - 113s 6ms/sample - loss: 0.3559 - accuracy: 0.8785 - val_loss: 1.3109 - val_accuracy: 0.4850\n",
      "Epoch 5/10\n",
      "20000/20000 [==============================] - 113s 6ms/sample - loss: 0.3410 - accuracy: 0.8848 - val_loss: 0.9439 - val_accuracy: 0.5150\n",
      "Epoch 6/10\n",
      "20000/20000 [==============================] - 113s 6ms/sample - loss: 0.3402 - accuracy: 0.8843 - val_loss: 1.4668 - val_accuracy: 0.4850\n",
      "Epoch 7/10\n",
      "20000/20000 [==============================] - 113s 6ms/sample - loss: 0.3384 - accuracy: 0.8846 - val_loss: 0.9743 - val_accuracy: 0.5150\n",
      "Epoch 8/10\n",
      "20000/20000 [==============================] - 113s 6ms/sample - loss: 0.3344 - accuracy: 0.8843 - val_loss: 1.6118 - val_accuracy: 0.4850\n",
      "Epoch 9/10\n",
      "20000/20000 [==============================] - 113s 6ms/sample - loss: 0.3280 - accuracy: 0.8892 - val_loss: 0.9908 - val_accuracy: 0.5150\n",
      "Epoch 10/10\n",
      "20000/20000 [==============================] - 113s 6ms/sample - loss: 0.3474 - accuracy: 0.8831 - val_loss: 1.5240 - val_accuracy: 0.4850\n",
      "Model: \"sequential_1\"\n",
      "_________________________________________________________________\n",
      "Layer (type)                 Output Shape              Param #   \n",
      "=================================================================\n",
      "resnet50 (Model)             (None, 2)                 23591810  \n",
      "_________________________________________________________________\n",
      "dense_1 (Dense)              (None, 2)                 6         \n",
      "=================================================================\n",
      "Total params: 23,591,816\n",
      "Trainable params: 23,538,696\n",
      "Non-trainable params: 53,120\n",
      "_________________________________________________________________\n"
     ]
    }
   ],
   "source": [
    "import datetime\n",
    "\n",
    "from sklearn.metrics import roc_auc_score\n",
    "from keras.callbacks import Callback\n",
    "class roc_callback(Callback):\n",
    "    def __init__(self,training_data,validation_data):\n",
    "        self.x = training_data[0]\n",
    "        self.y = training_data[1]\n",
    "        self.x_val = validation_data[0]\n",
    "        self.y_val = validation_data[1]\n",
    "\n",
    "\n",
    "    def on_train_begin(self, logs={}):\n",
    "        return\n",
    "\n",
    "    def on_train_end(self, logs={}):\n",
    "        return\n",
    "\n",
    "    def on_epoch_begin(self, epoch, logs={}):\n",
    "        return\n",
    "\n",
    "    def on_epoch_end(self, epoch, logs={}):\n",
    "        y_pred = self.model.predict(self.x)\n",
    "        roc = roc_auc_score(self.y, y_pred)\n",
    "        y_pred_val = self.model.predict(self.x_val)\n",
    "        roc_val = roc_auc_score(self.y_val, y_pred_val)\n",
    "        print('\\rroc-auc: %s - roc-auc_val: %s' % (str(round(roc,4)),str(round(roc_val,4))),end=100*' '+'\\n')\n",
    "        return\n",
    "\n",
    "    def on_batch_begin(self, batch, logs={}):\n",
    "        return\n",
    "\n",
    "    def on_batch_end(self, batch, logs={}):\n",
    "        return\n",
    "\n",
    "def create_model():\n",
    "    return tf.keras.models.Sequential([\n",
    "    #model.load_weights=('../aws-fpga-top-tagging-notebooks/dataset_Tom/weights-floatingpoint-224x224-fixval-best/class_weights.h5')\n",
    "    tf.keras.applications.ResNet50(weights=None, pooling='max',classes = 2),\n",
    "    tf.keras.layers.Dense(2, activation='softmax'),\n",
    "    ])\n",
    "\n",
    "#modelcheckpoint = ModelCheckpoint('./model/ResNet-50-best.model', monitor='val_acc', save_best_only=True)\n",
    "#earlystop = EarlyStopping(monitor='val_loss', patience=0, mode='min')\n",
    "\n",
    "def train_model():\n",
    "    model = create_model()\n",
    "    model.compile(optimizer='adam', loss='categorical_crossentropy',metrics=['accuracy'])\n",
    "    logdir = os.path.join(\"logs\",\"fit\", datetime.datetime.now().strftime(\"%Y%m%d-%H%M%S\"),)\n",
    "    tensorboard_callback = tf.keras.callbacks.TensorBoard(logdir, histogram_freq=1)\n",
    "    train_history = model.fit(x=train_img, y=train_label, epochs=10, batch_size=64,validation_data=(val_img, val_label), callbacks=[tensorboard_callback])\n",
    "    model.summary()\n",
    "    return train_history, model\n",
    "train_history, model = train_model()"
   ]
  },
  {
   "cell_type": "markdown",
   "metadata": {},
   "source": [
    "## Define function to visualize learning curve and prediction. <br><br>"
   ]
  },
  {
   "cell_type": "code",
   "execution_count": 13,
   "metadata": {},
   "outputs": [
    {
     "data": {
      "image/png": "[encoded data removed]",
      "text/plain": [
       "<Figure size 432x288 with 1 Axes>"
      ]
     },
     "metadata": {
      "needs_background": "light"
     },
     "output_type": "display_data"
    },
    {
     "data": {
      "image/png": "[encoded data removed]",
      "text/plain": [
       "<Figure size 432x288 with 1 Axes>"
      ]
     },
     "metadata": {
      "needs_background": "light"
     },
     "output_type": "display_data"
    }
   ],
   "source": [
    "#Define a function to show training history\n",
    "def show_train_history(train_history, train, validation,filename):\n",
    "    plt.plot(train_history.history[train])\n",
    "    plt.plot(train_history.history[validation])\n",
    "    plt.title('Train history')\n",
    "    plt.xlabel('Epoch')\n",
    "    plt.ylabel(train)\n",
    "    plt.legend(['train','validaiton'],loc='upper left')\n",
    "    plt.savefig(filename)\n",
    "    plt.show()\n",
    "\n",
    "def plot_images_prediction(iamges, labels, prediction, idx, num = 10):\n",
    "    fig = plt.gcf()\n",
    "    fig.set_size_inches(12,14)\n",
    "    if num>25: num=25\n",
    "    for i in range(0,num):\n",
    "        ax=plt.subplot(5,5,1+i)\n",
    "        ax.imshow(iamges[idx], cmap='binary')\n",
    "        title = \"label=\" + str(np.argmax(labels[idx]))\n",
    "        if len(prediction)>0 :\n",
    "            title += \",prediction=\" + str(np.argmax(prediction[idx]))\n",
    "        ax.set_title(title,fontsize=10)\n",
    "        ax.set_xticks([])\n",
    "        ax.set_yticks([])\n",
    "        idx+=1\n",
    "    plt.savefig(filename)\n",
    "    plt.show()\n",
    "    \n",
    "#Show the result of training \n",
    "show_train_history(train_history,'accuracy','val_accuracy','./acc.png')\n",
    "show_train_history(train_history,'loss','val_loss',filename='./loss.png')\n"
   ]
  },
  {
   "cell_type": "code",
   "execution_count": 14,
   "metadata": {},
   "outputs": [
    {
     "name": "stdout",
     "output_type": "stream",
     "text": [
      "\r",
      "2000/1 [================================================================================================================================================================================================================================================================================================================================================================================================================================================================================================================================================================================================================================================================================================================================================================================================================================================================================================================================================================================================================================================================================================================================================================================================================================================================================================================================================================================================================================================================================================================================================================================================================================================================================================================================================================================================================================================================================================================================================================================================================================================================================================================================================================================================================================================================================================================================================================================================================================================================================================================================================================================================================================================================================================================================================================================================================================================================================================================================================================================================================================================================================================================================================================================================================================================================================================================================================================================================================================================================================================================================================================================================================================================================================================================================================================================================================================================================================================================================================================================================================================================================================================================================================================================================================================================================================================================================================================================================================================================================================================================================================================================================================================================================================================================================================================================================================================================================================================================================================================================================================================================================================================================================================================================================================================================================================================================================================================================================================================================================================================================================================================================================================================================================================================================================================================================================================================================================================================================================================================================================================================================================================================================================================================================================================================================================================================================================================================================================================================================================================================================================================================================================================================================================================================================================================================================================================================================================================================================================================================================================================================================================================================================================================================================================================================================================================================================================================================================================================================================================================================================================================================================================================================================================================================================================================================================================================================================================================================================================================================================================================================================================================================================================================================================================================================================================================================================================================================================================================================================================================================================================================================================================================================================================================================================================================================================================================================================================================================================================================================================================================================================================================================================================================================================================================================================================================================================================================================================================================================================================================================================================================================================================================================================================================================================================================================================================================================================================================================================================================================================================================================================================================================================================================================================================================================================================================================================================================================================================================================================================================================================================================================================================================================================================================================================================================================================================================================================================================================================================================================================================================================================================================================================================================================================================================================================================================================================================================================================================================================================================================================================================================================================================================================================================================================================================================================================================================================================================================================================================================================================================================================================================================================================================================================================================================================================================================================================================================================================================================================================================================================================================================================================================================================================================================================================================================================================================================================================================================================================================================================================================================================================================================================================================================================================================================================================================================================================================================================================================================================================================================================================================================================================================================================================================================================================================================================================================================================================================================================================================================================================================================================================================================================================================================================================================================================================================================================================================================================================================================================================================================================================================================================================================================================================================================================================================================================================================================================================================================================================================================================================================================================================================================================================================================================================================================================================================================================================================================================================================================================================================================================================================================================================================================================================================================================================================================================================================================================================================================================================================================================================================================================================================================================================================================================================================================================================================================================================================================================================================================================================================================================================================================================================================================================================================================================================================================================================================================================================================================================================================================================================================================================================================================================================================================================================================================================================================================================================================================================================================================================================================================================================================================================================================================================================================================================================================================================================================================================================================================================================================================================================================================================================================================================================================================================================================================================================================================================================================================================================================================================================================================================================================================================================================================================================================================================================================================================================================================================================================================================================================================================================================================================================================================================================================================================================================================================================================================================================================================================================================================================================================================================================================================================================================================================================================================================================================================================================================================================================================================================================================================================================================================================================================================================================================================================================================================================================================================================================================================================================================================================================================================================================================================================================================================================================================================================================================================================================================================================================================================================================================================================================================================================================================================================================================================================================================================================================================================================================================================================================================================================================================================================================================================================================================================================================================================================================================================================================================================================================================================================================================================================================================================================================================================================================================================================================================================================================================================================================================================================================================================================================================================================================================================================================================================================================================================================================================================================================================================================================================================================================================================================================================================================================================================================================================================================================================================================================================================================================================================================================================================================================================================================================================================================================================================================================================================================================================================================================================================================================================================================================================================================================================================================================================================================================================================================================================================================================================================================================================================================================================================================================================================================================================================================================================================================================================================================================================================================================================================================================================================================================================================================================================================================================================================================================================================================================================================================================================================================================================================================================================================================================================================================================================================================================================================================================================================================================================================================================================================================================================================================================================================================================================================================================================================================================================================================================================================================================================================================================================================================================================================================================================================================================================================================================================================================================================================================================================================================================================================================================================================================================================================================================================================================================================================================================================================================================================================================================================================================================================================================================================================================================================================================================================================================================================================================================================================================================================================================================================================================================================================================================================================================================================================================================================================================================================================================================================================================================================================================================================================================================================================================================================================================================================================================================================================================================================================================================================================================================================================================================================================================================================================================================================================================================================================================================================================================================================================================================================================================================================================================================================================================================================================================================================================================================================================================================================================================================================================================================================================================================================================================================================================================================================================================================================================================================================================================================================================================================================================================================================================================================================================================================================================================================================================================================================================================================================================================================================================================================================================================================================================================================================================================================================================================================================================================================================================================================================================================================================================================================================================================================================================================================================================================================================================================================================================================================================================================================================================================================================================================================================================================================================================================================================================================================================================================================================================================================================================================================================================================================================================================================================================================================================================================================================================================================================================================================================================================================================================================================================================================================================================================================================================================================================================================================================================================================================================================================================================================================================================================================================================================================================================================================================================================================================================================================================================================================================================================================================================================================================================================================================================================================================================================================================================================================================================================================================================================================================================================================================================================================================================================================================================================================================================================================================================================================================================================================================================================================================================================================================================================================================================================================================================================================================================================================================================================================================================================================================================================================================================================================================================================================================================================================================================================================================================================================================================================================================================================================================================================================================================================================================================================================================================================================================================================================================================================================================================================================================================================================================================================================================================================================================================================================================================================================================================================================================================================================================================================================================================================================================================================================================================================================================================================================================================================================================================================================================================================================================================================================================================================================================================================================================================================================================================================================================================================================================================================================================================================================================================================================================================================================================================================================================================================================================================================================================================================================================================================================================================================================================================================================================================================================================================================================================================================================================================================================================================================================================================================================================================================================================================================================================================================================================================================================================================================================================================================================================================================================================================================================================================================================================================================================================================================================================================================================================================================================================================================================================================================================================================================================================================================================================================================================================================================================================================================================================================================================================================================================================================================================================================================================================================================================================================================================================================================================================================================================================================================================================================================================================================================================================================================================================================================================================================================================================================================================================================================================================================================================================================================================================================================================================================================================================================================================================================================================================================================================================================================================================================================================================================================================================================================================================================================================================================================================================================================================================================================================================================================================================================================================================================================================================================================================================================================================================================================================================================================================================================================================================================================================================================================================================================================================================================================================================================================================================================================================================================================================================================================================================================================================================================================================================================================================================================================================================================================================================================================================================================================================================================================================================================================================================================================================================================================================================================================================================================================================================================================================================================================================================================================================================================================================================================================================================================================================================================================================================================================================================================================================================================================================================================================================================================================================================================================================================================================================================================================================================================================================================================================================================================================================================================================================================================================================================================================================================================================================================================================================================================================================================================================================================================================================================================================================================================================================================================================================================================================================================================================================================================================================================================================================================================================================================================================================================================================================================================================================================================================================================================================================================================================================================================================================================================================================================================================================================================================================================================================================================================================================================================================================================================================================================================================================================================================================================================================================================================================================================================================================================================================================================================================================================================================================================================================================================================================================================================================================================================================================================================================================================================================================================================================================================================================================================================================================================================================================================================================================================================================================================================================================================================================================================================================================================================================================================================================================================================================================================================================================================================================================================================================================================================================================================================================================================================================================================================================================================================================================================================================================================================================================================================================================================================================================================================================================================================================================================================================================================================================================================================================================================================================================================================================================================================================================================================================================================================================================================================================================================================================================================================================================================================================================================================================================================================================================================================================================================================================================================================================================================================================================================================================================================================================================================================================================================================================================================================================================================================================================================================================================================================================================================================================================================================================================================================================================================================================================================================================================================================================================================================================================================================================================================================================================================================================================================================================================================================================================================================================================================================================================================================================================================================================================================================================================================================================================================================================================================================================================================================================================================================================================================================================================================================================================================================================================================================================================================================================================================================================================================================================================================================================================================================================================================================================================================================================================================================================================================================================================================================================================================================================================================================================================================================================================================================================================================================================================================================================================================================================================================================================================================================================================================================================================================================================================================================================================================================================================================================================================================================================================================================================================================================================================================================================================================================================================================================================================================================================================================================================================================================================================================================================================================================================================================================================================================================================================================================================================================================================================================================================================================================================================================================================================================================================================================================================================================================================================================================================================================================================================================================================================================================================================================================================================================================================================================================================================================================================================================================================================================================================================================================================================================================================================================================================================================================================================================================================================================================================================================================================================================================================================================================================================================================================================================================================================================================================================================================================================================================================================================================================================================================================================================================================================================================================================================================================================================================================================================================================================================================================================================================================================================================================================================================================================================================================================================================================================================================================================================================================================================================================================================================================================================================================================================================================================================================================================================================================================================================================================================================================================================================================================================================================================================================================================================================================================================================================================================================================================================================================================================================================================================================================================================================================================================================================================================================================================================================================================================================================================================================================================================================================================================================================================================================================================================================================================================================================================================================================================================================================================================================================================================================================================================================================================================================================================================================================================================================================================================================================================================================================================================================================================================================================================================================================================================================================================================================================================================================================================================================================================================================================================================================================================================================================================================================================================================================================================================================================================================================================================================================================] - 4s 2ms/sample - loss: 2.1510 - accuracy: 0.5300\n"
     ]
    },
    {
     "name": "stdout",
     "output_type": "stream",
     "text": [
      "\n",
      "Accuracy of model is 0.53\n",
      "[[0.0546766 0.9453234]\n",
      " [0.0546766 0.9453234]\n",
      " [0.0546766 0.9453234]\n",
      " ...\n",
      " [0.0546766 0.9453234]\n",
      " [0.0546766 0.9453234]\n",
      " [0.0546766 0.9453234]]\n"
     ]
    },
    {
     "data": {
      "image/png": "[encoded data removed]",
      "text/plain": [
       "<Figure size 864x1008 with 5 Axes>"
      ]
     },
     "metadata": {},
     "output_type": "display_data"
    }
   ],
   "source": [
    "#Scoring the accuracy of model by test dataset.\n",
    "score = model.evaluate(test_img, test_label)\n",
    "print()\n",
    "print(\"Accuracy of model is\", score[1])\n",
    "\n",
    "#Prediction \n",
    "prediction = model.predict(test_img)\n",
    "print(prediction)\n",
    "\n",
    "test_label_wo_onehot = np.zeros(len(test_label))\n",
    "pred = np.zeros(len(test_label))\n",
    "for i in range(len(test_label)):\n",
    "    test_label_wo_onehot[i] = np.argmax(test_label[i])\n",
    "    pred[i] = np.argmax(prediction[i])\n",
    "\n",
    "plot_images_prediction(test_img,test_label, prediction,idx=1,num=5)\n",
    "\n",
    "\n",
    "\n"
   ]
  },
  {
   "cell_type": "code",
   "execution_count": 15,
   "metadata": {},
   "outputs": [
    {
     "data": {
      "text/html": [
       "<div>\n",
       "<style scoped>\n",
       "    .dataframe tbody tr th:only-of-type {\n",
       "        vertical-align: middle;\n",
       "    }\n",
       "\n",
       "    .dataframe tbody tr th {\n",
       "        vertical-align: top;\n",
       "    }\n",
       "\n",
       "    .dataframe thead th {\n",
       "        text-align: right;\n",
       "    }\n",
       "</style>\n",
       "<table border=\"1\" class=\"dataframe\">\n",
       "  <thead>\n",
       "    <tr style=\"text-align: right;\">\n",
       "      <th>predict</th>\n",
       "      <th>1.0</th>\n",
       "    </tr>\n",
       "    <tr>\n",
       "      <th>label</th>\n",
       "      <th></th>\n",
       "    </tr>\n",
       "  </thead>\n",
       "  <tbody>\n",
       "    <tr>\n",
       "      <th>0.0</th>\n",
       "      <td>940</td>\n",
       "    </tr>\n",
       "    <tr>\n",
       "      <th>1.0</th>\n",
       "      <td>1060</td>\n",
       "    </tr>\n",
       "  </tbody>\n",
       "</table>\n",
       "</div>"
      ],
      "text/plain": [
       "predict   1.0\n",
       "label        \n",
       "0.0       940\n",
       "1.0      1060"
      ]
     },
     "execution_count": 15,
     "metadata": {},
     "output_type": "execute_result"
    }
   ],
   "source": [
    "#Display confusion matrix\n",
    "pd.crosstab(test_label_wo_onehot, pred, rownames=['label'], colnames=['predict'])"
   ]
  },
  {
   "cell_type": "code",
   "execution_count": 16,
   "metadata": {},
   "outputs": [
    {
     "data": {
      "text/html": [
       "<div>\n",
       "<style scoped>\n",
       "    .dataframe tbody tr th:only-of-type {\n",
       "        vertical-align: middle;\n",
       "    }\n",
       "\n",
       "    .dataframe tbody tr th {\n",
       "        vertical-align: top;\n",
       "    }\n",
       "\n",
       "    .dataframe thead th {\n",
       "        text-align: right;\n",
       "    }\n",
       "</style>\n",
       "<table border=\"1\" class=\"dataframe\">\n",
       "  <thead>\n",
       "    <tr style=\"text-align: right;\">\n",
       "      <th></th>\n",
       "      <th>label</th>\n",
       "      <th>predict</th>\n",
       "    </tr>\n",
       "  </thead>\n",
       "  <tbody>\n",
       "    <tr>\n",
       "      <th>0</th>\n",
       "      <td>1.0</td>\n",
       "      <td>1.0</td>\n",
       "    </tr>\n",
       "    <tr>\n",
       "      <th>1</th>\n",
       "      <td>1.0</td>\n",
       "      <td>1.0</td>\n",
       "    </tr>\n",
       "    <tr>\n",
       "      <th>2</th>\n",
       "      <td>1.0</td>\n",
       "      <td>1.0</td>\n",
       "    </tr>\n",
       "    <tr>\n",
       "      <th>3</th>\n",
       "      <td>1.0</td>\n",
       "      <td>1.0</td>\n",
       "    </tr>\n",
       "    <tr>\n",
       "      <th>4</th>\n",
       "      <td>1.0</td>\n",
       "      <td>1.0</td>\n",
       "    </tr>\n",
       "    <tr>\n",
       "      <th>5</th>\n",
       "      <td>1.0</td>\n",
       "      <td>1.0</td>\n",
       "    </tr>\n",
       "    <tr>\n",
       "      <th>6</th>\n",
       "      <td>1.0</td>\n",
       "      <td>1.0</td>\n",
       "    </tr>\n",
       "    <tr>\n",
       "      <th>7</th>\n",
       "      <td>1.0</td>\n",
       "      <td>1.0</td>\n",
       "    </tr>\n",
       "    <tr>\n",
       "      <th>8</th>\n",
       "      <td>1.0</td>\n",
       "      <td>1.0</td>\n",
       "    </tr>\n",
       "    <tr>\n",
       "      <th>9</th>\n",
       "      <td>1.0</td>\n",
       "      <td>1.0</td>\n",
       "    </tr>\n",
       "  </tbody>\n",
       "</table>\n",
       "</div>"
      ],
      "text/plain": [
       "   label  predict\n",
       "0    1.0      1.0\n",
       "1    1.0      1.0\n",
       "2    1.0      1.0\n",
       "3    1.0      1.0\n",
       "4    1.0      1.0\n",
       "5    1.0      1.0\n",
       "6    1.0      1.0\n",
       "7    1.0      1.0\n",
       "8    1.0      1.0\n",
       "9    1.0      1.0"
      ]
     },
     "execution_count": 16,
     "metadata": {},
     "output_type": "execute_result"
    }
   ],
   "source": [
    "#Display true value and predict value \n",
    "df = pd.DataFrame({'label':test_label_wo_onehot,'predict':pred})\n",
    "df[:10]\n"
   ]
  },
  {
   "cell_type": "code",
   "execution_count": 18,
   "metadata": {},
   "outputs": [
    {
     "data": {
      "text/html": [
       "<div>\n",
       "<style scoped>\n",
       "    .dataframe tbody tr th:only-of-type {\n",
       "        vertical-align: middle;\n",
       "    }\n",
       "\n",
       "    .dataframe tbody tr th {\n",
       "        vertical-align: top;\n",
       "    }\n",
       "\n",
       "    .dataframe thead th {\n",
       "        text-align: right;\n",
       "    }\n",
       "</style>\n",
       "<table border=\"1\" class=\"dataframe\">\n",
       "  <thead>\n",
       "    <tr style=\"text-align: right;\">\n",
       "      <th></th>\n",
       "      <th>label</th>\n",
       "      <th>predict</th>\n",
       "    </tr>\n",
       "  </thead>\n",
       "  <tbody>\n",
       "  </tbody>\n",
       "</table>\n",
       "</div>"
      ],
      "text/plain": [
       "Empty DataFrame\n",
       "Columns: [label, predict]\n",
       "Index: []"
      ]
     },
     "execution_count": 18,
     "metadata": {},
     "output_type": "execute_result"
    }
   ],
   "source": [
    "#Find the result that true value is x but pred value is y (x != y)\n",
    "df[(df.label==1)&(df.predict==0)]\n"
   ]
  },
  {
   "cell_type": "code",
   "execution_count": 26,
   "metadata": {},
   "outputs": [
    {
     "data": {
      "image/png": "[encoded data removed]",
      "text/plain": [
       "<Figure size 432x288 with 1 Axes>"
      ]
     },
     "metadata": {
      "needs_background": "light"
     },
     "output_type": "display_data"
    }
   ],
   "source": [
    "from sklearn.metrics import roc_curve,roc_auc_score\n",
    " \n",
    "fpr , tpr , thresholds = roc_curve ( test_label_wo_onehot  , pred )\n",
    "\n",
    "def plot_roc_curve(fpr,tpr,filename): \n",
    "    plt.plot(fpr,tpr)\n",
    "    plt.axis([0,1,0,1]) \n",
    "    plt.xlabel('False Positive Rate') \n",
    "    plt.ylabel('True Positive Rate')\n",
    "    plt.savefig(filename)\n",
    "    plt.show()    \n",
    "\n",
    "plot_roc_curve(fpr,tpr,'./roc.png') \n",
    "auc_score = roc_auc_score(test_label_wo_onehot, pred)"
   ]
  },
  {
   "cell_type": "code",
   "execution_count": null,
   "metadata": {},
   "outputs": [],
   "source": []
  }
 ],
 "metadata": {
  "kernelspec": {
   "display_name": "Python 3.6.9 64-bit",
   "language": "python",
   "name": "python36964bitd473ecf5dc094bd6887a96a1d3029107"
  },
  "language_info": {
   "codemirror_mode": {
    "name": "ipython",
    "version": 3
   },
   "file_extension": ".py",
   "mimetype": "text/x-python",
   "name": "python",
   "nbconvert_exporter": "python",
   "pygments_lexer": "ipython3",
   "version": "3.6.9"
  }
 },
 "nbformat": 4,
 "nbformat_minor": 4
}
