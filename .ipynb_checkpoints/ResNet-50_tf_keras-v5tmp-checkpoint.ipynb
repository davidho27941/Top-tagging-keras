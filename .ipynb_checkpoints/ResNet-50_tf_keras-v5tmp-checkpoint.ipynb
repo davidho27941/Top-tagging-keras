{
 "cells": [
  {
   "cell_type": "markdown",
   "metadata": {},
   "source": [
    "# Top tagging model with ResNet-50 "
   ]
  },
  {
   "cell_type": "markdown",
   "metadata": {},
   "source": [
    "This is a training script about using top tagging data to train a ResNet-50 Neuron Network. <br>\n",
    "The training is base on Keras and using tensorflow backend to run."
   ]
  },
  {
   "cell_type": "markdown",
   "metadata": {},
   "source": [
    "## Import necessary package and do gpu test."
   ]
  },
  {
   "cell_type": "code",
   "execution_count": 1,
   "metadata": {},
   "outputs": [
    {
     "name": "stderr",
     "output_type": "stream",
     "text": [
      "Using TensorFlow backend.\n"
     ]
    },
    {
     "name": "stdout",
     "output_type": "stream",
     "text": [
      "1 Physical GPUs, 1 Logical GPU\n"
     ]
    }
   ],
   "source": [
    "import numpy as np\n",
    "import matplotlib.pyplot as plt \n",
    "import pandas as pd \n",
    "import hdf5plugin, h5py, os, glob, datetime, tables \n",
    "from keras.utils import np_utils\n",
    "import tensorflow as tf\n",
    "from tensorflow.keras.utils import plot_model\n",
    "from IPython.display import Image\n",
    "from sklearn.metrics import roc_auc_score\n",
    "from keras.callbacks import Callback\n",
    "import tensorflow_io as tfio \n",
    "gpus = tf.config.experimental.list_physical_devices('GPU')\n",
    "if gpus:\n",
    "  # Restrict TensorFlow to only use the first GPU\n",
    "    try:\n",
    "        tf.config.experimental.set_visible_devices(gpus[0], 'GPU')\n",
    "        tf.config.experimental.set_virtual_device_configuration(\n",
    "        gpus[0],\n",
    "        [tf.config.experimental.VirtualDeviceConfiguration(memory_limit=6000)])\n",
    "        logical_gpus = tf.config.experimental.list_logical_devices('GPU')\n",
    "        print(len(gpus), \"Physical GPUs,\", len(logical_gpus), \"Logical GPU\")\n",
    "    except RuntimeError as e:\n",
    "    # Visible devices must be set before GPUs have been initialized\n",
    "        print(e)"
   ]
  },
  {
   "cell_type": "markdown",
   "metadata": {},
   "source": [
    "## Construsting a sequential \n",
    "Construst a model with Keras pre-configured ResNet-50 and one Dense layer with Softmax activation function. <br>\n",
    "Using Earlystopping and custom callback function to prevent training from overfitting and collect ROC/AUC data point. "
   ]
  },
  {
   "cell_type": "code",
   "execution_count": 2,
   "metadata": {},
   "outputs": [
    {
     "name": "stdout",
     "output_type": "stream",
     "text": [
      "Model: \"sequential\"\n",
      "_________________________________________________________________\n",
      "Layer (type)                 Output Shape              Param #   \n",
      "=================================================================\n",
      "resnet50 (Model)             (None, 2048)              27784064  \n",
      "_________________________________________________________________\n",
      "dense (Dense)                (None, 1024)              2098176   \n",
      "_________________________________________________________________\n",
      "flatten (Flatten)            (None, 1024)              0         \n",
      "_________________________________________________________________\n",
      "dense_1 (Dense)              (None, 2)                 2050      \n",
      "=================================================================\n",
      "Total params: 29,884,290\n",
      "Trainable params: 29,831,170\n",
      "Non-trainable params: 53,120\n",
      "_________________________________________________________________\n",
      "Failed to import pydot. You must install pydot and graphviz for `pydotprint` to work.\n"
     ]
    },
    {
     "data": {
      "image/png": "[encoded data removed]",
      "text/plain": [
       "<IPython.core.display.Image object>"
      ]
     },
     "execution_count": 2,
     "metadata": {},
     "output_type": "execute_result"
    }
   ],
   "source": [
    "class roc_callback(Callback):\n",
    "    def __init__(self,training_data,validation_data):\n",
    "        self.x = training_data[0]\n",
    "        self.y = training_data[1]\n",
    "        self.x_val = validation_data[0]\n",
    "        self.y_val = validation_data[1]\n",
    "\n",
    "\n",
    "    def on_train_begin(self, logs={}):\n",
    "        return\n",
    "\n",
    "    def on_train_end(self, logs={}):\n",
    "        return\n",
    "\n",
    "    def on_epoch_begin(self, epoch, logs={}):\n",
    "        return\n",
    "\n",
    "    def on_epoch_end(self, epoch, logs={}):\n",
    "        y_pred = self.model.predict(self.x)\n",
    "        roc = roc_auc_score(self.y, y_pred)\n",
    "        y_pred_val = self.model.predict(self.x_val)\n",
    "        roc_val = roc_auc_score(self.y_val, y_pred_val)\n",
    "        print('\\rroc-auc: %s - roc-auc_val: %s' % (str(round(roc,4)),str(round(roc_val,4))),end=100*' '+'\\n')\n",
    "        return\n",
    "\n",
    "    def on_batch_begin(self, batch, logs={}):\n",
    "        return\n",
    "\n",
    "    def on_batch_end(self, batch, logs={}):\n",
    "        return\n",
    "\n",
    "def create_model():\n",
    "    model = tf.keras.models.Sequential([\n",
    "    tf.keras.applications.ResNet50(weights=None, pooling='max',classes=2048),\n",
    "    tf.keras.layers.Dense(1024,activation='relu'),\n",
    "    tf.keras.layers.Flatten(),\n",
    "    tf.keras.layers.Dense(2, activation='softmax'),\n",
    "    ])\n",
    "    model.load_weights=('../aws-fpga-top-tagging-notebooks/dataset_Tom/weights-floatingpoint-224x224-fixval-best/class_weights.h5')\n",
    "    model.compile(optimizer='adam', loss='binary_crossentropy',metrics=[tf.keras.metrics.AUC(num_thresholds=200, curve='ROC')])\n",
    "    model.summary()\n",
    "    return model\n",
    "model = create_model()\n",
    "plot_model(model, to_file='./Picture/Sequential_Model.png')\n",
    "\n",
    "Image('./Picture/Sequential_Model.png')"
   ]
  },
  {
   "cell_type": "markdown",
   "metadata": {},
   "source": [
    "## Input data with H5py package\n",
    "Input data size: 1 channel image with shape 224x224. <br>\n",
    "Input label size: 1 or 0 with onehot encoding. <br>\n",
    "\\# of input data(train(with val), test): 30000,6000"
   ]
  },
  {
   "cell_type": "code",
   "execution_count": 3,
   "metadata": {},
   "outputs": [
    {
     "name": "stdout",
     "output_type": "stream",
     "text": [
      "<class 'numpy.ndarray'> 94\n",
      "<class 'numpy.ndarray'> 34\n",
      "<class 'numpy.ndarray'> 34\n"
     ]
    }
   ],
   "source": [
    "prefix = \"/u4/david/dataset_Tom/img224_all/converted/rotation_224_v1/\"\n",
    "train_filename = np.asanyarray(glob.glob(os.path.join(prefix,\"train_*\")))\n",
    "test_filename = np.asanyarray(glob.glob(os.path.join(prefix,\"test_*\")))\n",
    "val_filename = np.asanyarray(glob.glob(os.path.join(prefix,\"val_*\")))\n",
    "print(type(train_filename), len(train_filename))\n",
    "print(type(test_filename), len(test_filename))\n",
    "print(type(val_filename), len(val_filename))"
   ]
  },
  {
   "cell_type": "code",
   "execution_count": 4,
   "metadata": {},
   "outputs": [],
   "source": [
    "def get_data(filename):\n",
    "    with h5py.File(filename,'r') as f:\n",
    "        img_, label_ = [], []\n",
    "        pt_tmp = f['img_pt']\n",
    "        label_tmp = f['label']\n",
    "        for a in range(len(pt_tmp)):\n",
    "            img_.append(pt_tmp[a])\n",
    "        for b in range(len(label_tmp)):\n",
    "            label_.append(label_tmp[b])  \n",
    "    return np.asanyarray(img_), np.asanyarray(label_)\n",
    "\n",
    "def normalize_and_rgb(images, label):  \n",
    "    #normalize image to 0-255 per image.\n",
    "    image_sum = 1/np.sum(np.sum(images,axis=1),axis=-1)\n",
    "    given_axis = 0\n",
    "    # Create an array which would be used to reshape 1D array, b to have \n",
    "    # singleton dimensions except for the given axis where we would put -1 \n",
    "    # signifying to use the entire length of elements along that axis  \n",
    "    dim_array = np.ones((1,images.ndim),int).ravel()\n",
    "    dim_array[given_axis] = -1\n",
    "    # Reshape b with dim_array and perform elementwise multiplication with \n",
    "    # broadcasting along the singleton dimensions for the final output\n",
    "    image_sum_reshaped = image_sum.reshape(dim_array)\n",
    "    images = images*image_sum_reshaped*255\n",
    "\n",
    "    # make it rgb by duplicating 3 channels.\n",
    "    images = np.stack([images, images, images],axis=-1)\n",
    "    \n",
    "    return images, label\n",
    "\n",
    "def Preprocessing(filename, mode):\n",
    "    file = \"\"\n",
    "    seq = (\"tmp_\", mode, \".h5\")\n",
    "    im, lal = get_data(filename)\n",
    "    #print(type(im), im.shape, len(im), type(lal), len(lal))\n",
    "    im, lal = normalize_and_rgb(im, lal)\n",
    "    #print(type(im), im.shape, len(im), type(lal), len(lal))\n",
    "    #print(im ,lal)\n",
    "    #print(type(im.tolist()), len(im), type(lal.tolist()), len(lal))\n",
    "    if  os.path.exists(os.path.join(prefix,file.join(seq))) == True:\n",
    "        os.remove(os.path.join(prefix,file.join(seq)))\n",
    "    os.path.join(os.path.join(prefix,file.join(seq)))\n",
    "    out = tables.open_file(os.path.join(prefix,file.join(seq)), mode=\"w\", title=\"Test file\")\n",
    "    out.create_array(\"/\", \"image\", im)\n",
    "    out.create_array(\"/\",\"label\", lal)\n",
    "    out.close()\n",
    "\n",
    "def loop_Preprocessing(filename, loop, mode):\n",
    "    file = \"\"\n",
    "    seq = (\"tmp_\", mode, \".h5\")\n",
    "    if os.path.exists(os.path.join(prefix,file.join(seq))) == True : \n",
    "        os.remove(os.path.join(prefix,file.join(seq)))\n",
    "    for i in range(loop):\n",
    "        im, lal = get_data(filename[i])\n",
    "        #print(type(im), im.shape, len(im), type(lal), len(lal))\n",
    "        im, lal = normalize_and_rgb(im, lal)\n",
    "        print(len(im),len(lal))\n",
    "    #print(im ,lal)\n",
    "    #print(type(im.tolist()), len(im), type(lal.tolist()), len(lal))\n",
    "        os.path.join(prefix,os.path.join(prefix,file.join(seq)))\n",
    "        out = tables.open_file(os.path.join(prefix,os.path.join(prefix,file.join(seq))), mode=\"w\", title=\"Test file\")\n",
    "        out.create_array(\"/\", \"image\", im)\n",
    "        out.create_array(\"/\",\"label\", lal)\n",
    "        out.close()\n",
    "#def train_model(x,y):\n",
    "#    logdir = os.path.join(\"logs\",\"fit\", datetime.datetime.now().strftime(\"%Y%m%d-%H%M%S\"),)\n",
    "#    tensorboard_callback = tf.keras.callbacks.TensorBoard(logdir, histogram_freq=1, write_graph=True, write_images=True, )\n",
    "#    train_history = model.fit(x, y, epochs=1, batch_size=64, shuffle=True, callbacks=[tensorboard_callback])\n",
    "#    #model.summary()\n",
    "#    return train_history, model\n",
    "\n",
    "\n"
   ]
  },
  {
   "cell_type": "code",
   "execution_count": null,
   "metadata": {},
   "outputs": [
    {
     "name": "stdout",
     "output_type": "stream",
     "text": [
      "Starting 1-round training\n",
      "Train for 312 steps\n",
      "237/312 [=====================>........] - ETA: 16s - loss: 0.5997 - auc: 0.7434"
     ]
    }
   ],
   "source": [
    "auc = []\n",
    "val_auc = []\n",
    "loss = []\n",
    "val_loss = []\n",
    "batch_zise = 32\n",
    "#logdir = os.path.join(\"logs\",\"fit\", datetime.datetime.now().strftime(\"%Y%m%d-%H%M%S\"),)\n",
    "#tensorboard_callback = tf.keras.callbacks.TensorBoard(logdir, histogram_freq=1, write_graph=False, write_images=False, )\n",
    "\n",
    "#train stage      \n",
    "for i in range(len(train_filename)):\n",
    "    if ( (i+1) % 3 != 0 or ((i+1) % 3 == 0 and (i+1) <= 6)):\n",
    "        Preprocessing(train_filename[i],\"train\")\n",
    "        image_train = tfio.IODataset.from_hdf5(filename=os.path.join(prefix,'tmp_train.h5'), dataset=\"/image\")\n",
    "        label_train = tfio.IODataset.from_hdf5(filename=os.path.join(prefix,'tmp_train.h5'), dataset=\"/label\")\n",
    "        train = tf.data.Dataset.zip((image_train,label_train)).batch(batch_zise, drop_remainder=True).prefetch(tf.data.experimental.AUTOTUNE)\n",
    "        print(\"Starting {0}-round training\".format(i+1))\n",
    "        train_history = model.fit(train, epochs=1, steps_per_epoch=312,  shuffle=True)\n",
    "        auc.append(train_history.history['auc'])\n",
    "        loss.append(train_history.history['loss'])\n",
    "    if ( (i+1) % 3 == 0 and (i+1) > 6  ):\n",
    "        Preprocessing(train_filename[i],\"train\")\n",
    "        Preprocessing(val_filename[i],\"val\")\n",
    "        image_train = tfio.IODataset.from_hdf5(filename=os.path.join(prefix,'tmp_train.h5'), dataset=\"/image\")\n",
    "        label_train = tfio.IODataset.from_hdf5(filename=os.path.join(prefix,'tmp_train.h5'), dataset=\"/label\")\n",
    "        image_val = tfio.IODataset.from_hdf5(filename=os.path.join(prefix,'tmp_val.h5'), dataset=\"/image\")\n",
    "        label_val = tfio.IODataset.from_hdf5(filename=os.path.join(prefix,'tmp_val.h5'), dataset=\"/label\")\n",
    "        train = tf.data.Dataset.zip((image_train,label_train)).batch(batch_zise, drop_remainder=True).prefetch(tf.data.experimental.AUTOTUNE)\n",
    "        val = tf.data.Dataset.zip((image_val,label_val)).batch(batch_zise, drop_remainder=True).prefetch(tf.data.experimental.AUTOTUNE)\n",
    "        print(\"Starting {0}-round training\".format(i+1))\n",
    "        train_history = model.fit(train, validation_data=val, epochs=1, steps_per_epoch=312, validation_steps=312,  shuffle=True)\n",
    "        auc.append(train_history.history['auc'])\n",
    "        loss.append(train_history.history['loss'])\n",
    "        val_auc.append(train_history.history[\"val_auc\"])\n",
    "        val_loss.append(train_history.history[\"val_loss\"])\n"
   ]
  },
  {
   "cell_type": "markdown",
   "metadata": {},
   "source": [
    "## Define function to visualize learning curve and prediction. <br><br>"
   ]
  },
  {
   "cell_type": "code",
   "execution_count": null,
   "metadata": {},
   "outputs": [],
   "source": [
    "#Define a function to show training history\n",
    "def show_train_history(train_history, train, validation,filename):\n",
    "    plt.plot(train_history.history[train])\n",
    "    plt.plot(train_history.history[validation])\n",
    "    plt.title('Train history')\n",
    "    plt.xlabel('Epoch')\n",
    "    plt.ylabel(train)\n",
    "    plt.legend(['train','validaiton'],loc='upper left')\n",
    "    plt.savefig(filename)\n",
    "    plt.show()\n",
    "\n",
    "\n",
    "    \n",
    "#Show the result of training \n",
    "show_train_history(train_history,'loss','val_loss','./loss_new.png')\n",
    "show_train_history(train_history,'auc','val_auc',filename='./auc_new.png')\n"
   ]
  },
  {
   "cell_type": "code",
   "execution_count": 14,
   "metadata": {},
   "outputs": [],
   "source": [
    "def plot_images_prediction(iamges, labels, prediction, idx, num = 10):\n",
    "    fig = plt.gcf()\n",
    "    fig.set_size_inches(12,14)\n",
    "    if num>25: num=25\n",
    "    for i in range(0,num):\n",
    "        ax=plt.subplot(5,5,1+i)\n",
    "        ax.imshow(iamges[idx], cmap='binary')\n",
    "        title = \"label=\" + str(np.argmax(labels[idx]))\n",
    "        if len(prediction)>0 :\n",
    "            title += \",prediction=\" + str(np.argmax(prediction[idx]))\n",
    "        ax.set_title(title,fontsize=10)\n",
    "        ax.set_xticks([])\n",
    "        ax.set_yticks([])\n",
    "        idx+=1\n",
    "    plt.savefig(filename)\n",
    "    plt.show()"
   ]
  },
  {
   "cell_type": "code",
   "execution_count": 15,
   "metadata": {},
   "outputs": [],
   "source": [
    "def plot_roc_curve(fpr,tpr,filename): \n",
    "    x = np.linspace(0,1)\n",
    "    y = x\n",
    "    plt.plot(fpr,tpr,label='model')\n",
    "    plt.plot(x,y,label='random')\n",
    "    plt.axis([0,1,0,1]) \n",
    "    plt.xlabel('False Positive Rate') \n",
    "    plt.ylabel('True Positive Rate')\n",
    "    plt.legend(loc='lower right')\n",
    "    plt.savefig(filename)\n",
    "    plt.show() "
   ]
  },
  {
   "cell_type": "code",
   "execution_count": 16,
   "metadata": {
    "collapsed": true,
    "jupyter": {
     "outputs_hidden": true
    }
   },
   "outputs": [
    {
     "name": "stdout",
     "output_type": "stream",
     "text": [
      "2000/1 [================================================================================================================================================================================================================================================================================================================================================================================================================================================================================================================================================================================================================================================================================================================================================================================================================================================================================================================================================================================================================================================================================================================================================================================================================================================================================================================================================================================================================================================================================================================================================================================================================================================================================================================================================================================================================================================================================================================================================================================================================================================================================================================================================================================================================================================================================================================================================================================================================================================================================================================================================================================================================================================================================================================================================================================================================================================================================================================================================================================================================================================================================================================================================================================================================================================================================================================================================================================================================================================================================================================================================================================================================================================================================================================================================================================================================================================================================================================================================================================================================================================================================================================================================================================================================================================================================================================================================================================================================================================================================================================================================================================================================================================================================================================================================================================================================================================================================================================================================================================================================================================================================================================================================================================================================================================================================================================================================================================================================================================================================================================================================================================================================================================================================================================================================================================================================================================================================================================================================================================================================================================================================================================================================================================================================================================================================================================================================================================================================================================================================================================================================================================================================================================================================================================================================================================================================================================================================================================================================================================================================================================================================================================================================================================================================================================================================================================================================================================================================================================================================================================================================================================================================================================================================================================================================================================================================================================================================================================================================================================================================================================================================================================================================================================================================================================================================================================================================================================================================================================================================================================================================================================================================================================================================================================================================================================================================================================================================================================================================================================================================================================================================================================================================================================================================================================================================================================================================================================================================================================================================================================================================================================================================================================================================================================================================================================================================================================================================================================================================================================================================================================================================================================================================================================================================================================================================================================================================================================================================================================================================================================================================================================================================================================================================================================================================================================================================================================================================================================================================================================================================================================================================================================================================================================================================================================================================================================================================================================================================================================================================================================================================================================================================================================================================================================================================================================================================================================================================================================================================================================================================================================================================================================================================================================================================================================================================================================================================================================================================================================================================================================================================================================================================================================================================================================================================================================================================================================================================================================================================================================================================================================================================================================================================================================================================================================================================================================================================================================================================================================================================================================================================================================================================================================================================================================================================================================================================================================================================================================================================================================================================================================================================================================================================================================================================================================================================================================================================================================================================================================================================================================================================================================================================================================================================================================================================================================================================================================================================================================================================================================================================================================================================================================================================================================================================================================================================================================================================================================================================================================================================================================================================================================================================================================================================================================================================================================================================================================================================================================================================================================================================================================================================================================================================================================================================================================================================================================================================================================================================================================================================================================================================================================================================================================================================================================================================================================================================================================================================================================================================================================================================================================================================================================================================================================================================================================================================================================================================================================================================================================================================================================================================================================================================================================================================================================================================================================================================================================================================================================================================================================================================================================================================================================================================================================================================================================================================================================================================================================================================================================================================================================================================================================================================================================================================================================================================================================================================================================================================================================================================================================================================================================================================================================================================================================================================================================================================================================================================================================================================================================================================================================================================================================================================================================================================================================================================================================================================================================================================================================================================================================================================================================================================================================================================================================================================================================================================================================================================================================================================================================================================================================================================================================================================================================================================================================================================================================================================================================================================================================================================================================================================================================================================================================================================================================================================================================================================================================================================================================================================================================================================================================================================================================================================================================================================================================================================================================================================================================================================================================================================================================================================================================================================================================================================================================================================================================================================================================================================================================================================================================================================================================================================================================================================================================================================================================================================================================================================================================================================================================================================================================================================================================================================================================================================================================================================================================================================================================================================================================================================================================================================================================================================================================================================================================================================================================================================================================================================================================================================================================================================================================================================================================================================================================================================================================================================================================================================================================================================================================================================================================================================================================================================================================================================================================================================================================================================================================================================================================================================================================================================================================================================================================================================================================================================================================================================================================================================================================================================================================================================================================================================================================================================================================================================================================================================================================================================================================================================================================================================================================================================================================================================================================================================================================================================================================================================================================================================================================================================================================================================================================================================================================================================================================================================================================================================================================================================================================================================================================================================================================================================================================================================================================================================================================================================================================================================================================================================================================================================================================================================================================================================================================================================================================================================================================================================================================================================================================================================================================================================================================================================================================================================================================================================================================================================================================================================================================================================================================================================================================================================================================================================================================================================================================================================================================================================================================================================================================================================================================================================================================================================================================================================================================================================================================================================================================================================================================================================================================================================================================================================================================================================================================================================================================================================================================================================================================================================================================================================================================================================================================================================================================================================================================================================================================================================================================================================================================================================================================================================================================================================================================================================================================================================================================================================================================================================================================================================================================================================================================================================================================================================================================================================================================================================================================================================================================================================================================================================================================================================================================================================================================================================================================================================================================================================================================================================================================================================================================================================================================================================================================================================================================================================================================================================================================================================================================================================================================================================================================================================================================================================================================================================================================================================================================================================================================================================================================================================================================================================================================================================================================================================================================================================================================================================================================================================================================================================================================================================================================================================================================================================================================================================================================================================================================================================================================================================================================================================================================================================================================================================================================================================================================================================================================================================================================================================================================================================================================================================================================================================================================================================================================================================================================================================================================================================================================================================================================================================================================================================================================================================================================================================================================================================================================================================================================================================================================================================================================================================================================================================================================================================================================================================================================================================================================================================================================================================================================================================================================================================================================================================================================================================================================================================================================================================================================================================================================================================================================================================================================================================================================================================================================================================================================================================================================================================================================================================================================================================================================================================================================================================================================================================================================================================================================================================================================================================================================================================================================================================================================================================================================================================================================================================================================================================================================================================================================================================================================================================================================================================================================================================================================================================================================================================================================================================================================================================================================================================================================================================================================================================================================================================================================================================================================================================================================================================================================================================================================================================================================================================================================================================================================================================================================================================================================================================================================================================================================================================================================================================================================================================================================================================================================================================================================================================================================================================================================================================================================================================================================================================================================================================================================================================================================================================================================================================================================================================================================================================================================================================================================================================================================================================================================================================================================================================================================================================================================================================================================================================================================================================================================================================================================================================================================================================================================================================================================================================================================================================================================================================================================================================================================================================================================================================================================================================================================================================================================================================================================================================================================================================================================================================================================================================================================================================================================================================================================================================================================================================================================================================================================================================================================================================================================================================================================================================================================================================================================================================================================================================================================================================================================================================================================================================================================================================================================================================================================================================================================================================================================================================================================================================================================================================================================================================================================================================================================================================================================================================================================================================================================================================================================================================================================================================================================================================================================================================================================================================================================================================================================================================================================================================================================================================================================================================================================================================================================================================================================================================================================================================================================================================================================================================================================================================================================================================================================================================================================================================================================================================================================================================================================================================================================================================================================================================================================================================================================================================================================================================================================================================================================================================================================================================================================================================================================================================================================================================================================================================================================================================================================================================================================================================================================================================================================================================================================================================================================================================================================================================================================================================================================================================================================================================================================================================================================================================================================================================================================================================================================================================================================================================================================================================================================================================================================================================================================================================================================================================================================================================================================================================================================================================================================================================================================================================================================================================================================================================================================================================================================================================================================================================================================================================================================================================================================================================================================================================================================================================================================================================================================================================================================================================================================================================================================================================================================================================================================================================================================================================================================================================================================================================================================================================================================================================================================================================================================================================================================================================================================================================================================================================================================================================================================================================================================================================================================================================================================================================================================================================================================================================================================================================================================================================================================================================================================================================================================================================================================================================================================================================================================================================================================================================================================================================================================================================================================================================================================================================================================================================================================================================================================================================================================================================================================================================================================================================================================================================================================================================================================================================================================================================================================================================================================================================================================================================================================================================================================================================================================================================================================================================================================================================================================================================================================================================================================================================================================================================================================================================================================================================================================================================================================================================================================================================================================================================================================================================================================================================================================================================================================================================================================================================================================================================================================================================================================================================================================================================================================================================================================================================================================================================================================================================================================================================================================================================================================================================================================================================================================================================================================================================================================================================================================================================================================================================================================================================================================================================================================================================================================================================================================================================================================================================================================================================================================================================================================================================================================================================================================================================================================================================================================================================================================================================================================================================================================================================================================================================================================================================================================================================================================================================================================================================================================================================================================================================================================================================================================================================================================================================================================================================================================================================================================================================================================================================================================================================================================================================================================================================================================================================================================================================================================================================================================================================================================================================================================================================================================================================================================================================================================================================================================================================================================================================================================================================================================================================================================================================================================================================================================================================================================================================================================================================================================================================================================================================================================================================================================================================================================================================================================================================================================================================================================================================================================================================================================================================================================================================================================================================================================================================================================================================================================================================================================================================================================================================================================================================================================================================================================================================================================================================================================================================================================================================================================================================================================================================================================================================================================================================================================================================================================================================================================================================================================================================================================================================================================================================================================================================================================================================================================================================================================================================================================================================================================================================================================================================================================================================================================================================================================================================================================================================================================================================================================================================================================================================================================================================================================================================================================================================================================================================================================================================================================================================================================================================================================================================================================================================================================================================================================================================================================================================================================================================================================================================================================================================================================================================================================================================================================================================================================================================================================================================================================================================================================================================================================================================================] - 4s 2ms/sample - loss: 1.2378 - auc: 0.5150\n",
      "\n",
      "Accuracy of model is 0.515\n"
     ]
    },
    {
     "name": "stderr",
     "output_type": "stream",
     "text": [
      "Clipping input data to the valid range for imshow with RGB data ([0..1] for floats or [0..255] for integers).\n",
      "Clipping input data to the valid range for imshow with RGB data ([0..1] for floats or [0..255] for integers).\n",
      "Clipping input data to the valid range for imshow with RGB data ([0..1] for floats or [0..255] for integers).\n",
      "Clipping input data to the valid range for imshow with RGB data ([0..1] for floats or [0..255] for integers).\n",
      "Clipping input data to the valid range for imshow with RGB data ([0..1] for floats or [0..255] for integers).\n"
     ]
    },
    {
     "name": "stdout",
     "output_type": "stream",
     "text": [
      "[[0.88099873 0.11900128]\n",
      " [0.88099873 0.11900128]\n",
      " [0.88099873 0.11900128]\n",
      " ...\n",
      " [0.88099873 0.11900128]\n",
      " [0.88099873 0.11900128]\n",
      " [0.88099873 0.11900128]]\n"
     ]
    },
    {
     "data": {
      "image/png": "[encoded data removed]",
      "text/plain": [
       "<Figure size 864x1008 with 5 Axes>"
      ]
     },
     "metadata": {},
     "output_type": "display_data"
    },
    {
     "name": "stdout",
     "output_type": "stream",
     "text": [
      "Not a good model, please try again.\n"
     ]
    }
   ],
   "source": [
    "from sklearn.metrics import roc_curve,roc_auc_score\n",
    "\n",
    "#Scoring the accuracy of model by test dataset.\n",
    "score = model.evaluate(test_img, test_label)\n",
    "print()\n",
    "print(\"Accuracy of model is\", score[1])\n",
    "\n",
    "\n",
    "#Prediction \n",
    "prediction = model.predict(test_img)\n",
    "print(prediction)\n",
    "\n",
    "plot_images_prediction(test_img,test_label, prediction,idx=1,num=5)\n",
    "\n",
    "\n",
    "modelname = \"\"\n",
    "\n",
    "\n",
    "\n",
    "if (score[1] > 0.85):\n",
    "    path = os.path.join(\"model\",\"best\",)\n",
    "    seq = (path, \"my_weight_best_new_{0}.h5\".format(datetime.datetime.now().strftime(\"%Y%m%d-%H%M%S\")))\n",
    "    model.save_weights(modelname.join(seq))\n",
    "    model.save('./model/my_model_best_new_{0}.h5'.format(datetime.datetime.now().strftime(\"%Y%m%d-%H%M%S\")))\n",
    "    print('A best model was saved.')\n",
    "    fpr , tpr , thresholds = roc_curve ( test_label[:,1]  , prediction[:,1] )   \n",
    "    plot_roc_curve(fpr,tpr,'./roc_new_best_{0}.png'.format(datetime.datetime.now().strftime(\"%Y%m%d-%H%M%S\"))) \n",
    "    auc_score = roc_auc_score(test_label[:,1]  , prediction[:,1])\n",
    "    print(auc_score)\n",
    "elif (score[1] > 0.75) and (score[1] < 0.85):\n",
    "    path = os.path.join(\"model\",\"better\",datetime.datetime.now().strftime(\"%Y%m%d-%H%M%S\"),)\n",
    "    seq = (path, \"my_weight_better_new.h5\")\n",
    "    model.save_weights(modelname.join(seq))\n",
    "    model.save('./model/my_model_better_new.h5')\n",
    "    print('A better model was saved.')\n",
    "    fpr , tpr , thresholds = roc_curve (test_label[:,1]  , prediction[:,1] )\n",
    "    plot_roc_curve(fpr,tpr,'./roc_new_better.png') \n",
    "    auc_score = roc_auc_score(test_label[:,1]  , prediction[:,1])\n",
    "    print(auc_score)\n",
    "else:\n",
    "    print('Not a good model, please try again.')\n",
    "\n"
   ]
  },
  {
   "cell_type": "code",
   "execution_count": 17,
   "metadata": {
    "collapsed": true,
    "jupyter": {
     "outputs_hidden": true
    }
   },
   "outputs": [
    {
     "ename": "NameError",
     "evalue": "name 'test_label_wo_onehot' is not defined",
     "output_type": "error",
     "traceback": [
      "\u001b[0;31m---------------------------------------------------------------------------\u001b[0m",
      "\u001b[0;31mNameError\u001b[0m                                 Traceback (most recent call last)",
      "\u001b[0;32m<ipython-input-17-a94732b1699d>\u001b[0m in \u001b[0;36m<module>\u001b[0;34m\u001b[0m\n\u001b[1;32m      1\u001b[0m \u001b[0;31m#Display confusion matrix\u001b[0m\u001b[0;34m\u001b[0m\u001b[0;34m\u001b[0m\u001b[0;34m\u001b[0m\u001b[0m\n\u001b[0;32m----> 2\u001b[0;31m \u001b[0mpd\u001b[0m\u001b[0;34m.\u001b[0m\u001b[0mcrosstab\u001b[0m\u001b[0;34m(\u001b[0m\u001b[0mtest_label_wo_onehot\u001b[0m\u001b[0;34m,\u001b[0m \u001b[0mpred\u001b[0m\u001b[0;34m,\u001b[0m \u001b[0mrownames\u001b[0m\u001b[0;34m=\u001b[0m\u001b[0;34m[\u001b[0m\u001b[0;34m'label'\u001b[0m\u001b[0;34m]\u001b[0m\u001b[0;34m,\u001b[0m \u001b[0mcolnames\u001b[0m\u001b[0;34m=\u001b[0m\u001b[0;34m[\u001b[0m\u001b[0;34m'predict'\u001b[0m\u001b[0;34m]\u001b[0m\u001b[0;34m)\u001b[0m\u001b[0;34m\u001b[0m\u001b[0;34m\u001b[0m\u001b[0m\n\u001b[0m",
      "\u001b[0;31mNameError\u001b[0m: name 'test_label_wo_onehot' is not defined"
     ]
    }
   ],
   "source": [
    "#Display confusion matrix\n",
    "#pd.crosstab(test_label_wo_onehot, pred, rownames=['label'], colnames=['predict'])"
   ]
  },
  {
   "cell_type": "code",
   "execution_count": null,
   "metadata": {},
   "outputs": [],
   "source": [
    "#Display true value and predict value \n",
    "df = pd.DataFrame({'label':test_label_wo_onehot,'predict':pred})\n",
    "df[:10]\n",
    "#Find the result that true value is x but pred value is y (x != y)\n",
    "#df[(df.label==1)&(df.predict==0)]"
   ]
  },
  {
   "cell_type": "markdown",
   "metadata": {},
   "source": [
    "## Loading pre-trained model and test "
   ]
  },
  {
   "cell_type": "code",
   "execution_count": 18,
   "metadata": {},
   "outputs": [
    {
     "name": "stdout",
     "output_type": "stream",
     "text": [
      "Model: \"sequential_1\"\n",
      "_________________________________________________________________\n",
      "Layer (type)                 Output Shape              Param #   \n",
      "=================================================================\n",
      "resnet50 (Model)             (None, 2048)              27784064  \n",
      "_________________________________________________________________\n",
      "dense_2 (Dense)              (None, 1024)              2098176   \n",
      "_________________________________________________________________\n",
      "flatten_1 (Flatten)          (None, 1024)              0         \n",
      "_________________________________________________________________\n",
      "dense_3 (Dense)              (None, 2)                 2050      \n",
      "=================================================================\n",
      "Total params: 29,884,290\n",
      "Trainable params: 29,831,170\n",
      "Non-trainable params: 53,120\n",
      "_________________________________________________________________\n"
     ]
    }
   ],
   "source": [
    "from sklearn.metrics import roc_curve,roc_auc_score\n",
    "from tensorflow.keras.models import load_model\n",
    "model_best = load_model('model/my_model_best_new_20200308-174931.h5')\n",
    "model_best.summary()\n",
    "\n",
    "model_best.load_weights('model/bestmy_weight_best_new_20200308-174931.h5')\n",
    "\n",
    "\n",
    "\n"
   ]
  },
  {
   "cell_type": "code",
   "execution_count": 19,
   "metadata": {},
   "outputs": [
    {
     "name": "stdout",
     "output_type": "stream",
     "text": [
      "640/1 [================================================================================================================================================================================================================================================================================================================================================================================================================================================================================================================================================================================================================================================================================================================================================================================================================================================================================================================================================================================================================================================================================================================================================================================================================================================================================================================================================================================================================================================================================================================================================================================================================================================================================================================================================================================================================================================================================================================================================================================================================================================================================================================================================================================================================================================================================================================================================================================================================================================================================================================================================================================================================================================================================================================================================================================================================================================================================================================================================================================================================================================================================================================================================================================================================================================================================================================================================================================================================================================================================================================================================================================================================================================================================================================================================================================================================================================================================================================================================================================================================================================================================================================================================================================================================================================================================================================================================================================================================================================================================================================================================================================================================================================================================================================================================================================================================================================================================================================================================================================================================================================================================================================================================================================================================================================================================================================================================================================================================================================================================================================================================================================================================================================================================================================================================================================================================================================================================================================================================================================================================================================================================================================================================================================================================================================================================================================================================================================================================================================================================================================================================================================================================================================================================================================================================================================================================================================================================================================================================================================================================================================================================================================================================================================================================================================================================================================================================================================================================================================================================================================================================================================================================================================================================================================================================================================================================================================================================================================================================================================================================================================================================================================================================================================================================================================================================================================================================================================================================================================================================================================================================================================================================================================================================================================================================================================================================================================================================================================================================================================================================================================================================================================================================================================================================================================================================================================================================================================================================================================================================================================================================================================================================================================================================================================================================================================================================================================================================================================================================================================================================================================================================================================================================================================================================================================================================================================================================================================================================================================================================================================================================================================================================================================================================================================================================================================================================================================================================================================================================================================================================================================================================================================================================================================================================================================================================================================================================================================================================================================================================================================================================================================================================================================================================================================================================================================================================================================================================================================================================================================================================================================================================================================================================================================================================================================================================================================================================================================================================================================================================================================================================================================================================================================================================================================================================================================================================================================================================================================================================================================================================================================================================================================================================================================================================================================================================================================================================================================================================================================================================================================================================================================================================================================================================================================================================================================================================================================================================================================================================================================================================================================================================================================================================================================================================================================================================================================================================================================================================================================================================================================================================================================================================================================================================================================================================================================================================================================================================================================================================================================================================================================================================================================================================================================================================================================================================================================================================================================================================================================================================================================================================================================================================================================================================================================================================================================================================================================================================================================================================================================================================================================================================================================================================================================================================================================================================================================================================================================================================================================================================================================================================================================================================================================================================================================================================================================================================================================================================================================================================================================================================================================================================================================================================================================================================================================================================================================================================================================================================================================================================================================================================================================================================================================================================================================================================================================================================================================================================================================================================================================================================================================================================================================================================================================================================================================================================================================================================================================================================================================================================================================================================================================================================================================================================================================================================================================================================================================================================================================================================================================================================================================================================================================================================================================================================================================================================================================================================================================================================================================================================================================================================================================================================================================================================================================================================================================================================================================================================================================================================================================================] - 2s 3ms/sample - loss: 0.3194 - auc: 0.9457\n",
      "\n",
      "Accuracy of model is 0.9457007\n"
     ]
    },
    {
     "data": {
      "image/png": "[encoded data removed]",
      "text/plain": [
       "<Figure size 432x288 with 1 Axes>"
      ]
     },
     "metadata": {
      "needs_background": "light"
     },
     "output_type": "display_data"
    },
    {
     "name": "stdout",
     "output_type": "stream",
     "text": [
      "0.9574922430187169\n"
     ]
    }
   ],
   "source": [
    "best_prediction = model_best.predict(test_img)\n",
    "#predict_class = model_best.predict_class(test_img)\n",
    "best_score = model_best.evaluate(test_img, test_label,batch_size=64, steps=10)\n",
    "print()\n",
    "print(\"Accuracy of model is\", best_score[1])\n",
    "\n",
    "#plot_images_prediction(test_img, test_label, predict_class,idx=1,num=5)\n",
    "best_fpr , best_tpr , best_thresholds = roc_curve (test_label[:,1], best_prediction[:,1])   \n",
    "plot_roc_curve(best_fpr, best_tpr,'./roc_best.png') \n",
    "best_auc_score = roc_auc_score(test_label[:,1], best_prediction[:,1])\n",
    "print(best_auc_score)"
   ]
  },
  {
   "cell_type": "code",
   "execution_count": 20,
   "metadata": {},
   "outputs": [
    {
     "name": "stderr",
     "output_type": "stream",
     "text": [
      "/home/david/.local/lib/python3.6/site-packages/ipykernel_launcher.py:2: MatplotlibDeprecationWarning: \n",
      "The 'normed' kwarg was deprecated in Matplotlib 2.1 and will be removed in 3.1. Use 'density' instead.\n",
      "  \n",
      "/home/david/.local/lib/python3.6/site-packages/ipykernel_launcher.py:3: MatplotlibDeprecationWarning: \n",
      "The 'normed' kwarg was deprecated in Matplotlib 2.1 and will be removed in 3.1. Use 'density' instead.\n",
      "  This is separate from the ipykernel package so we can avoid doing imports until\n"
     ]
    },
    {
     "data": {
      "text/plain": [
       "<matplotlib.legend.Legend at 0x7fab45997630>"
      ]
     },
     "execution_count": 20,
     "metadata": {},
     "output_type": "execute_result"
    },
    {
     "data": {
      "image/png": "[encoded data removed]",
      "text/plain": [
       "<Figure size 432x288 with 1 Axes>"
      ]
     },
     "metadata": {
      "needs_background": "light"
     },
     "output_type": "display_data"
    }
   ],
   "source": [
    "kwargs = dict(histtype='stepfilled', alpha=0.3, normed=True, bins=100)\n",
    "plt.hist(best_prediction[:,0],**kwargs, label='top')\n",
    "plt.hist(best_prediction[:,1],**kwargs,label='QCD')\n",
    "plt.yscale('log')\n",
    "plt.xlim(0.0,1.0)\n",
    "plt.legend(loc='upper right')"
   ]
  },
  {
   "cell_type": "code",
   "execution_count": null,
   "metadata": {},
   "outputs": [],
   "source": [
    "qq, c1, c2, tt = 0, 0, 0, 0 \n",
    "for i in range(len(img)): \n",
    "    if (np.argmax(label[i]) == 1):\n",
    "        qq += 255*img[i]/img[i].max()\n",
    "        c1 += 1\n",
    "    else :\n",
    "        tt += 255*img[i]/img[i].max()\n",
    "        c2 +=1\n",
    "print(\"c1: {0}, c2: {1}\".format(c1,c2))\n",
    "plt.figure()        \n",
    "color_map = plt.imshow(qq)\n",
    "color_map.set_cmap(\"Blues_r\")\n",
    "plt.colorbar()\n",
    "plt.xlabel(r'$i\\eta$')\n",
    "plt.ylabel(r'$i\\phi$')\n",
    "plt.title('QCD, average 15K events')\n",
    "plt.savefig(\"qcd.png\")\n",
    "\n",
    "plt.figure()\n",
    "color_map = plt.imshow(tt)\n",
    "color_map.set_cmap(\"Blues_r\")\n",
    "plt.colorbar()\n",
    "plt.xlabel(r'$i\\eta$')\n",
    "plt.ylabel(r'$i\\phi$')\n",
    "plt.title('Top, average 15K events')\n",
    "plt.savefig(\"top.png\")\n",
    "qq, c1, c2, tt = 0, 0, 0, 0 "
   ]
  }
 ],
 "metadata": {
  "kernelspec": {
   "display_name": "Python 3",
   "language": "python",
   "name": "python3"
  },
  "language_info": {
   "codemirror_mode": {
    "name": "ipython",
    "version": 3
   },
   "file_extension": ".py",
   "mimetype": "text/x-python",
   "name": "python",
   "nbconvert_exporter": "python",
   "pygments_lexer": "ipython3",
   "version": "3.6.9"
  }
 },
 "nbformat": 4,
 "nbformat_minor": 4
}
